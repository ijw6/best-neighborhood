{
 "cells": [
  {
   "cell_type": "code",
   "execution_count": 11,
   "metadata": {},
   "outputs": [],
   "source": [
    "#Andres Trujillo\n",
    "import pandas as pd\n",
    "import numpy as np\n",
    "%matplotlib inline\n",
    "import matplotlib.pyplot as plt\n"
   ]
  },
  {
   "cell_type": "markdown",
   "metadata": {},
   "source": [
    "# INTRODUCTION \n",
    "Here, I am going to look at which neighborhood in Pittsburgh is the \"best,\" and which is the \"worst\" using a dataset that contains information on where arrests took place. To determine this, I am going to be assuming the role of a middle-aged parent with a family looking to find a neighborhood to move to. I will be looking at which neighborhood has the least amount of arrests to conclude if it is the \"best\" to potentially live in, as well as which has the most to conclude it is the \"worst\" so I know not to move there."
   ]
  },
  {
   "cell_type": "code",
   "execution_count": 3,
   "metadata": {},
   "outputs": [],
   "source": [
    "arrests = pd.read_csv(\"PittArrests.csv\")"
   ]
  },
  {
   "cell_type": "markdown",
   "metadata": {},
   "source": [
    "Here, we are getting rid of the excess columns to focus on the one that will includes our metric."
   ]
  },
  {
   "cell_type": "code",
   "execution_count": 8,
   "metadata": {},
   "outputs": [
    {
     "data": {
      "text/html": [
       "<div>\n",
       "<style scoped>\n",
       "    .dataframe tbody tr th:only-of-type {\n",
       "        vertical-align: middle;\n",
       "    }\n",
       "\n",
       "    .dataframe tbody tr th {\n",
       "        vertical-align: top;\n",
       "    }\n",
       "\n",
       "    .dataframe thead th {\n",
       "        text-align: right;\n",
       "    }\n",
       "</style>\n",
       "<table border=\"1\" class=\"dataframe\">\n",
       "  <thead>\n",
       "    <tr style=\"text-align: right;\">\n",
       "      <th></th>\n",
       "      <th>INCIDENTNEIGHBORHOOD</th>\n",
       "    </tr>\n",
       "  </thead>\n",
       "  <tbody>\n",
       "    <tr>\n",
       "      <th>0</th>\n",
       "      <td>Bloomfield</td>\n",
       "    </tr>\n",
       "    <tr>\n",
       "      <th>1</th>\n",
       "      <td>Outside City</td>\n",
       "    </tr>\n",
       "    <tr>\n",
       "      <th>2</th>\n",
       "      <td>Westwood</td>\n",
       "    </tr>\n",
       "    <tr>\n",
       "      <th>3</th>\n",
       "      <td>East Allegheny</td>\n",
       "    </tr>\n",
       "    <tr>\n",
       "      <th>4</th>\n",
       "      <td>Crafton Heights</td>\n",
       "    </tr>\n",
       "    <tr>\n",
       "      <th>...</th>\n",
       "      <td>...</td>\n",
       "    </tr>\n",
       "    <tr>\n",
       "      <th>44267</th>\n",
       "      <td>North Shore</td>\n",
       "    </tr>\n",
       "    <tr>\n",
       "      <th>44268</th>\n",
       "      <td>Banksville</td>\n",
       "    </tr>\n",
       "    <tr>\n",
       "      <th>44269</th>\n",
       "      <td>Point Breeze</td>\n",
       "    </tr>\n",
       "    <tr>\n",
       "      <th>44270</th>\n",
       "      <td>Homewood North</td>\n",
       "    </tr>\n",
       "    <tr>\n",
       "      <th>44271</th>\n",
       "      <td>Homewood North</td>\n",
       "    </tr>\n",
       "  </tbody>\n",
       "</table>\n",
       "<p>44272 rows × 1 columns</p>\n",
       "</div>"
      ],
      "text/plain": [
       "      INCIDENTNEIGHBORHOOD\n",
       "0               Bloomfield\n",
       "1             Outside City\n",
       "2                 Westwood\n",
       "3           East Allegheny\n",
       "4          Crafton Heights\n",
       "...                    ...\n",
       "44267          North Shore\n",
       "44268           Banksville\n",
       "44269         Point Breeze\n",
       "44270       Homewood North\n",
       "44271       Homewood North\n",
       "\n",
       "[44272 rows x 1 columns]"
      ]
     },
     "execution_count": 8,
     "metadata": {},
     "output_type": "execute_result"
    }
   ],
   "source": [
    "arrests2 = arrests.drop(['PK','CCR','AGE' ,'GENDER','RACE', 'ARRESTTIME',\n",
    "                        'ARRESTLOCATION', 'OFFENSES','INCIDENTLOCATION','INCIDENTZONE','INCIDENTTRACT',\n",
    "                        'COUNCIL_DISTRICT', 'PUBLIC_WORKS_DIVISION','X','Y'], axis=1)\n",
    "\n",
    "arrests2\n"
   ]
  },
  {
   "cell_type": "markdown",
   "metadata": {},
   "source": [
    "I want to now do a count of the number of arrests per neighborhood so I can make graphs."
   ]
  },
  {
   "cell_type": "code",
   "execution_count": 10,
   "metadata": {},
   "outputs": [
    {
     "data": {
      "text/plain": [
       "Central Business District    2712\n",
       "South Side Flats             2295\n",
       "Carrick                      1608\n",
       "East Allegheny               1505\n",
       "Homewood South               1429\n",
       "                             ... \n",
       "Central Northside              23\n",
       "Regent Square                  22\n",
       "Mt. Oliver Boro                16\n",
       "Troy Hill-Herrs Island          6\n",
       "Mt. Oliver Neighborhood         2\n",
       "Name: INCIDENTNEIGHBORHOOD, Length: 98, dtype: int64"
      ]
     },
     "execution_count": 10,
     "metadata": {},
     "output_type": "execute_result"
    }
   ],
   "source": [
    "arrcount=arrests2['INCIDENTNEIGHBORHOOD'].value_counts()\n",
    "arrcount"
   ]
  },
  {
   "cell_type": "markdown",
   "metadata": {},
   "source": [
    "There are so many neighborhoods in Pittsburgh. To make one big graph containing each one would be way too crowded. With that being said, I'm going to make two graphs. One for the top 10 neighborhoods with the most arrests, and one for the top 10 neighborhoods with the least arrests."
   ]
  },
  {
   "cell_type": "code",
   "execution_count": 49,
   "metadata": {},
   "outputs": [
    {
     "data": {
      "text/plain": [
       "<matplotlib.axes._subplots.AxesSubplot at 0x7f4c0d25cee0>"
      ]
     },
     "execution_count": 49,
     "metadata": {},
     "output_type": "execute_result"
    },
    {
     "data": {
      "image/png": "[encoded data removed]",
      "text/plain": [
       "<Figure size 432x288 with 1 Axes>"
      ]
     },
     "metadata": {
      "needs_background": "light"
     },
     "output_type": "display_data"
    }
   ],
   "source": [
    "arrcount.head(10).plot(kind='bar',title= \"Top 10 neighborhoods with the most arrests\")"
   ]
  },
  {
   "cell_type": "code",
   "execution_count": 51,
   "metadata": {},
   "outputs": [
    {
     "data": {
      "text/plain": [
       "<matplotlib.axes._subplots.AxesSubplot at 0x7f4c0d25cfa0>"
      ]
     },
     "execution_count": 51,
     "metadata": {},
     "output_type": "execute_result"
    },
    {
     "data": {
      "image/png": "[encoded data removed]",
      "text/plain": [
       "<Figure size 432x288 with 1 Axes>"
      ]
     },
     "metadata": {
      "needs_background": "light"
     },
     "output_type": "display_data"
    }
   ],
   "source": [
    "arrcount.tail(10).plot(kind='bar', title = \"Top 10 neighborhoods with the least arrests\")"
   ]
  },
  {
   "cell_type": "markdown",
   "metadata": {},
   "source": [
    "# Conclusion\n",
    "Out of the top 10 neighborhoods with the most arrests, the Central Business District has the most arrests, making it the \"worst\" neighborhood in terms of having the most arrests. According to my metric, these 10 neighborhoods are the 10 \"worst\" due to them having the top 10 most arrests.\n",
    "\n",
    "Out of the top 10 neighborhoods with the least arrests, Mt. Oliver Neighborhood has the least arrests, making it the \"best\" neighborhood. This does not take away from the other neighborhoods on this graph, because they are the top 10 \"best\" in terms of having the least arrests. With that being said, I would like to live in any of these neighborhoods because they are the best, but the best of the best is Mt. Oliver Neighborhood according to the metric I chose."
   ]
  },
  {
   "cell_type": "code",
   "execution_count": null,
   "metadata": {},
   "outputs": [],
   "source": []
  }
 ],
 "metadata": {
  "kernelspec": {
   "display_name": "Python 3",
   "language": "python",
   "name": "python3"
  },
  "language_info": {
   "codemirror_mode": {
    "name": "ipython",
    "version": 3
   },
   "file_extension": ".py",
   "mimetype": "text/x-python",
   "name": "python",
   "nbconvert_exporter": "python",
   "pygments_lexer": "ipython3",
   "version": "3.8.3"
  }
 },
 "nbformat": 4,
 "nbformat_minor": 4
}
